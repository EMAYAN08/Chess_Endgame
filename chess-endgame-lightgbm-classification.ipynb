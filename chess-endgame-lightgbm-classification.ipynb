{
 "cells": [
  {
   "cell_type": "code",
   "execution_count": 10,
   "metadata": {
    "colab": {
     "base_uri": "https://localhost:8080/"
    },
    "id": "2TQ80cDGIFmj",
    "outputId": "3523a0fe-cb90-491f-b546-ae50aca84f5c"
   },
   "outputs": [
    {
     "name": "stdout",
     "output_type": "stream",
     "text": [
      "Drive already mounted at /content/drive/; to attempt to forcibly remount, call drive.mount(\"/content/drive/\", force_remount=True).\n"
     ]
    }
   ],
   "source": [
    "import pandas as pd\n",
    "import matplotlib.pyplot as plt\n",
    "import seaborn as sns\n",
    "import lightgbm as lgb\n",
    "from google.colab import files as f, drive\n",
    "drive.mount('/content/drive/')"
   ]
  },
  {
   "cell_type": "code",
   "execution_count": 11,
   "metadata": {
    "colab": {
     "base_uri": "https://localhost:8080/",
     "height": 417
    },
    "id": "dElBfKcCIRrN",
    "outputId": "e378c5f6-24cf-4f84-a46f-7e9912f5ee23"
   },
   "outputs": [
    {
     "data": {
      "text/html": [
       "<div>\n",
       "<style scoped>\n",
       "    .dataframe tbody tr th:only-of-type {\n",
       "        vertical-align: middle;\n",
       "    }\n",
       "\n",
       "    .dataframe tbody tr th {\n",
       "        vertical-align: top;\n",
       "    }\n",
       "\n",
       "    .dataframe thead th {\n",
       "        text-align: right;\n",
       "    }\n",
       "</style>\n",
       "<table border=\"1\" class=\"dataframe\">\n",
       "  <thead>\n",
       "    <tr style=\"text-align: right;\">\n",
       "      <th></th>\n",
       "      <th>White King file</th>\n",
       "      <th>White King rank</th>\n",
       "      <th>White Rook file</th>\n",
       "      <th>White Rook rank</th>\n",
       "      <th>Black King file</th>\n",
       "      <th>Black King rank</th>\n",
       "      <th>optimal depth-of-win</th>\n",
       "    </tr>\n",
       "  </thead>\n",
       "  <tbody>\n",
       "    <tr>\n",
       "      <th>0</th>\n",
       "      <td>d</td>\n",
       "      <td>3</td>\n",
       "      <td>f</td>\n",
       "      <td>5</td>\n",
       "      <td>a</td>\n",
       "      <td>5</td>\n",
       "      <td>nine</td>\n",
       "    </tr>\n",
       "    <tr>\n",
       "      <th>1</th>\n",
       "      <td>d</td>\n",
       "      <td>3</td>\n",
       "      <td>e</td>\n",
       "      <td>5</td>\n",
       "      <td>f</td>\n",
       "      <td>2</td>\n",
       "      <td>eight</td>\n",
       "    </tr>\n",
       "    <tr>\n",
       "      <th>2</th>\n",
       "      <td>d</td>\n",
       "      <td>1</td>\n",
       "      <td>g</td>\n",
       "      <td>6</td>\n",
       "      <td>d</td>\n",
       "      <td>7</td>\n",
       "      <td>thirteen</td>\n",
       "    </tr>\n",
       "    <tr>\n",
       "      <th>3</th>\n",
       "      <td>c</td>\n",
       "      <td>2</td>\n",
       "      <td>e</td>\n",
       "      <td>8</td>\n",
       "      <td>a</td>\n",
       "      <td>4</td>\n",
       "      <td>ten</td>\n",
       "    </tr>\n",
       "    <tr>\n",
       "      <th>4</th>\n",
       "      <td>d</td>\n",
       "      <td>4</td>\n",
       "      <td>a</td>\n",
       "      <td>8</td>\n",
       "      <td>b</td>\n",
       "      <td>1</td>\n",
       "      <td>eight</td>\n",
       "    </tr>\n",
       "    <tr>\n",
       "      <th>...</th>\n",
       "      <td>...</td>\n",
       "      <td>...</td>\n",
       "      <td>...</td>\n",
       "      <td>...</td>\n",
       "      <td>...</td>\n",
       "      <td>...</td>\n",
       "      <td>...</td>\n",
       "    </tr>\n",
       "    <tr>\n",
       "      <th>21036</th>\n",
       "      <td>d</td>\n",
       "      <td>3</td>\n",
       "      <td>d</td>\n",
       "      <td>1</td>\n",
       "      <td>d</td>\n",
       "      <td>6</td>\n",
       "      <td>twelve</td>\n",
       "    </tr>\n",
       "    <tr>\n",
       "      <th>21037</th>\n",
       "      <td>d</td>\n",
       "      <td>3</td>\n",
       "      <td>f</td>\n",
       "      <td>4</td>\n",
       "      <td>a</td>\n",
       "      <td>3</td>\n",
       "      <td>five</td>\n",
       "    </tr>\n",
       "    <tr>\n",
       "      <th>21038</th>\n",
       "      <td>b</td>\n",
       "      <td>1</td>\n",
       "      <td>h</td>\n",
       "      <td>4</td>\n",
       "      <td>h</td>\n",
       "      <td>1</td>\n",
       "      <td>ten</td>\n",
       "    </tr>\n",
       "    <tr>\n",
       "      <th>21039</th>\n",
       "      <td>c</td>\n",
       "      <td>1</td>\n",
       "      <td>h</td>\n",
       "      <td>7</td>\n",
       "      <td>c</td>\n",
       "      <td>5</td>\n",
       "      <td>fourteen</td>\n",
       "    </tr>\n",
       "    <tr>\n",
       "      <th>21040</th>\n",
       "      <td>c</td>\n",
       "      <td>2</td>\n",
       "      <td>c</td>\n",
       "      <td>6</td>\n",
       "      <td>g</td>\n",
       "      <td>3</td>\n",
       "      <td>twelve</td>\n",
       "    </tr>\n",
       "  </tbody>\n",
       "</table>\n",
       "<p>21041 rows × 7 columns</p>\n",
       "</div>"
      ],
      "text/plain": [
       "      White King file  White King rank  ... Black King rank  optimal depth-of-win\n",
       "0                   d                3  ...               5                  nine\n",
       "1                   d                3  ...               2                 eight\n",
       "2                   d                1  ...               7              thirteen\n",
       "3                   c                2  ...               4                   ten\n",
       "4                   d                4  ...               1                 eight\n",
       "...               ...              ...  ...             ...                   ...\n",
       "21036               d                3  ...               6                twelve\n",
       "21037               d                3  ...               3                  five\n",
       "21038               b                1  ...               1                   ten\n",
       "21039               c                1  ...               5              fourteen\n",
       "21040               c                2  ...               3                twelve\n",
       "\n",
       "[21041 rows x 7 columns]"
      ]
     },
     "execution_count": 11,
     "metadata": {
      "tags": []
     },
     "output_type": "execute_result"
    }
   ],
   "source": [
    "train_data = pd.read_csv('/content/drive/MyDrive/Train_Data (1).csv')\n",
    "test_data = pd.read_csv('/content/drive/MyDrive/Test_Data (1).csv')\n",
    "train_data"
   ]
  },
  {
   "cell_type": "code",
   "execution_count": 12,
   "metadata": {
    "colab": {
     "base_uri": "https://localhost:8080/"
    },
    "id": "LEXCwDu1IRt5",
    "outputId": "2d9f5c87-f11a-426b-a450-8d7793f74a57"
   },
   "outputs": [
    {
     "name": "stdout",
     "output_type": "stream",
     "text": [
      "White King file         0\n",
      "White King rank         0\n",
      "White Rook file         0\n",
      "White Rook rank         0\n",
      "Black King file         0\n",
      "Black King rank         0\n",
      "optimal depth-of-win    0\n",
      "dtype: int64\n",
      "White King file    0\n",
      "White King rank    0\n",
      "White Rook file    0\n",
      "White Rook rank    0\n",
      "Black King file    0\n",
      "Black King rank    0\n",
      "dtype: int64\n"
     ]
    }
   ],
   "source": [
    "print(train_data.isnull().sum())\n",
    "print(test_data.isnull().sum())"
   ]
  },
  {
   "cell_type": "code",
   "execution_count": 13,
   "metadata": {
    "colab": {
     "base_uri": "https://localhost:8080/",
     "height": 356
    },
    "id": "60PHrvdnIRzI",
    "outputId": "96a06e0e-0443-406e-cdc3-8a3f936e8e92"
   },
   "outputs": [
    {
     "data": {
      "text/plain": [
       "(array([ 0,  1,  2,  3,  4,  5,  6,  7,  8,  9, 10, 11, 12, 13, 14, 15, 16,\n",
       "        17]), <a list of 18 Text major ticklabel objects>)"
      ]
     },
     "execution_count": 13,
     "metadata": {
      "tags": []
     },
     "output_type": "execute_result"
    },
    {
     "data": {
      "image/png": "[encoded data removed]",
      "text/plain": [
       "<Figure size 432x288 with 1 Axes>"
      ]
     },
     "metadata": {
      "tags": []
     },
     "output_type": "display_data"
    }
   ],
   "source": [
    "sns.set()\n",
    "sns.countplot(x = train_data['optimal depth-of-win'])\n",
    "plt.xticks(rotation=90)"
   ]
  },
  {
   "cell_type": "code",
   "execution_count": 14,
   "metadata": {
    "id": "f-_EYp1OIR11"
   },
   "outputs": [],
   "source": [
    "files = ['a', 'b', 'c', 'd', 'e', 'f', 'g', 'h']\n",
    "file_dict = {files[i] : list(enumerate(files))[i][0]+1 for i in range(len(files))}"
   ]
  },
  {
   "cell_type": "code",
   "execution_count": 15,
   "metadata": {
    "id": "9CTautMpKKHu"
   },
   "outputs": [],
   "source": [
    "def encode_labels(df, cols):\n",
    "  for col in cols:\n",
    "    df[col] = df[col].replace(file_dict)\n",
    "  return df\n",
    "\n",
    "train_data = encode_labels(train_data, ['White King file', 'White Rook file', 'Black King file'])\n",
    "test_data = encode_labels(test_data, ['White King file', 'White Rook file', 'Black King file'])"
   ]
  },
  {
   "cell_type": "code",
   "execution_count": 16,
   "metadata": {
    "id": "UcKkK9mdKKLA"
   },
   "outputs": [],
   "source": [
    "target = list(set(list(train_data['optimal depth-of-win'])))\n",
    "target_dict = {target[i] : list(enumerate(target))[i][0] for i in range(len(target))}\n",
    "reverse_target_dict = {value : key for key, value in target_dict.items()}\n",
    "train_data['optimal depth-of-win'] = train_data['optimal depth-of-win'].replace(target_dict)\n",
    "y_train = train_data['optimal depth-of-win']\n",
    "train_data = train_data.drop(['optimal depth-of-win'], axis=1)"
   ]
  },
  {
   "cell_type": "code",
   "execution_count": 17,
   "metadata": {
    "colab": {
     "base_uri": "https://localhost:8080/",
     "height": 17
    },
    "id": "7MDUBJgQTs4V",
    "outputId": "da7c2acf-2c01-4451-e0fc-00e4178c3188"
   },
   "outputs": [
    {
     "data": {
      "application/javascript": [
       "\n",
       "    async function download(id, filename, size) {\n",
       "      if (!google.colab.kernel.accessAllowed) {\n",
       "        return;\n",
       "      }\n",
       "      const div = document.createElement('div');\n",
       "      const label = document.createElement('label');\n",
       "      label.textContent = `Downloading \"${filename}\": `;\n",
       "      div.appendChild(label);\n",
       "      const progress = document.createElement('progress');\n",
       "      progress.max = size;\n",
       "      div.appendChild(progress);\n",
       "      document.body.appendChild(div);\n",
       "\n",
       "      const buffers = [];\n",
       "      let downloaded = 0;\n",
       "\n",
       "      const channel = await google.colab.kernel.comms.open(id);\n",
       "      // Send a message to notify the kernel that we're ready.\n",
       "      channel.send({})\n",
       "\n",
       "      for await (const message of channel.messages) {\n",
       "        // Send a message to notify the kernel that we're ready.\n",
       "        channel.send({})\n",
       "        if (message.buffers) {\n",
       "          for (const buffer of message.buffers) {\n",
       "            buffers.push(buffer);\n",
       "            downloaded += buffer.byteLength;\n",
       "            progress.value = downloaded;\n",
       "          }\n",
       "        }\n",
       "      }\n",
       "      const blob = new Blob(buffers, {type: 'application/binary'});\n",
       "      const a = document.createElement('a');\n",
       "      a.href = window.URL.createObjectURL(blob);\n",
       "      a.download = filename;\n",
       "      div.appendChild(a);\n",
       "      a.click();\n",
       "      div.remove();\n",
       "    }\n",
       "  "
      ],
      "text/plain": [
       "<IPython.core.display.Javascript object>"
      ]
     },
     "metadata": {
      "tags": []
     },
     "output_type": "display_data"
    },
    {
     "data": {
      "application/javascript": [
       "download(\"download_bcd2d386-c222-4efe-8280-c61f3c46900c\", \"dphi.csv\", 48838)"
      ],
      "text/plain": [
       "<IPython.core.display.Javascript object>"
      ]
     },
     "metadata": {
      "tags": []
     },
     "output_type": "display_data"
    }
   ],
   "source": [
    "best_clf = lgb.LGBMClassifier(n_estimators=15000, max_depth=7, num_leaves=31, learning_rate=0.03)\n",
    "best_clf.fit(train_data, y_train)\n",
    "y_pred = best_clf.predict(test_data)\n",
    "y_pred_target = []\n",
    "for label in y_pred:\n",
    "  y_pred_target.append(reverse_target_dict[label])\n",
    "\n",
    "df = pd.DataFrame()\n",
    "df['prediction'] = y_pred_target\n",
    "df.to_csv('final.csv', index=False)\n",
    "f.download('final.csv')\n"
   ]
  }
 ],
 "metadata": {
  "colab": {
   "name": "dPhi #39.ipynb",
   "provenance": []
  },
  "kernelspec": {
   "display_name": "Python 3",
   "language": "python",
   "name": "python3"
  },
  "language_info": {
   "codemirror_mode": {
    "name": "ipython",
    "version": 3
   },
   "file_extension": ".py",
   "mimetype": "text/x-python",
   "name": "python",
   "nbconvert_exporter": "python",
   "pygments_lexer": "ipython3",
   "version": "3.8.8"
  }
 },
 "nbformat": 4,
 "nbformat_minor": 1
}
